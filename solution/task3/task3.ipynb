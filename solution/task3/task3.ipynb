{
 "cells": [
  {
   "cell_type": "code",
   "execution_count": 1,
   "id": "211eac37",
   "metadata": {},
   "outputs": [],
   "source": [
    "import sqlite3, csv"
   ]
  },
  {
   "cell_type": "code",
   "execution_count": 2,
   "id": "2e5cadec",
   "metadata": {},
   "outputs": [],
   "source": [
    "web_db = sqlite3.connect(\"web_db_3mo.db\")\n",
    "web_db_cur = web_db.cursor()\n",
    "\n",
    "with open('web_db_3mo.csv') as f:\n",
    "   web_db_reader = csv.reader(f)\n",
    "   web_db_data = list(web_db_reader)\n",
    "\n",
    "web_db_cur.execute('''CREATE TABLE user_clicks (\n",
    "   day TEXT,\n",
    "   name TEXT NOT NULL,\n",
    "   clicks INTEGER\n",
    "   )''')\n",
    "\n",
    "for row in web_db_data:\n",
    "    web_db_cur.execute(\"INSERT INTO user_clicks (day, name, clicks) values (?, ?, ?)\", row)\n",
    "\n",
    "web_db.commit()"
   ]
  },
  {
   "cell_type": "code",
   "execution_count": 3,
   "id": "491f3a54",
   "metadata": {},
   "outputs": [],
   "source": [
    "crm_db = sqlite3.connect(\"crm_db.db\")\n",
    "crm_db_cur = crm_db.cursor()\n",
    "\n",
    "with open('crm_db.csv') as f:\n",
    "   crm_db_reader = csv.reader(f)\n",
    "   crm_db_data = list(crm_db_reader)\n",
    "\n",
    "crm_db_cur.execute('''CREATE TABLE user_revenue (\n",
    "   user_name TEXT NOT NULL,\n",
    "   start_date TEXT,   \n",
    "   past_3mo_sub_revenue INTEGER\n",
    "   )''')\n",
    "\n",
    "for row in crm_db_data:\n",
    "    crm_db_cur.execute(\"INSERT INTO user_revenue (user_name, start_date, past_3mo_sub_revenue) values (?, ?, ?)\", row)\n",
    "\n",
    "crm_db.commit()"
   ]
  },
  {
   "cell_type": "code",
   "execution_count": 4,
   "id": "19baa20d",
   "metadata": {},
   "outputs": [],
   "source": [
    "web_db_cur.execute(\"SELECT SUM(clicks), name FROM user_clicks GROUP BY name\")\n",
    "user_clicks_rows = web_db_cur.fetchall()\n",
    "\n",
    "# extract surnames\n",
    "surnames = [name[1].split()[-1] for name in user_clicks_rows]\n",
    "\n",
    "web_data_dict = dict()\n",
    "\n",
    "for i, surname in enumerate(surnames[1:], start=1):\n",
    "    web_data_dict[surname] = (user_clicks_rows[i][0], user_clicks_rows[i][1])"
   ]
  },
  {
   "cell_type": "code",
   "execution_count": 5,
   "id": "60f4321a",
   "metadata": {},
   "outputs": [],
   "source": [
    "crm_db_cur.execute(\"SELECT * FROM user_revenue\")\n",
    "crm_rows = crm_db_cur.fetchall()\n",
    "crm_data_dict = dict()\n",
    "\n",
    "for surname in surnames[1:]:\n",
    "    for row in crm_rows[1:]:\n",
    "        if surname in row[0]:\n",
    "            crm_data_dict[surname] = (row[1], row[2])"
   ]
  },
  {
   "cell_type": "code",
   "execution_count": 6,
   "id": "9d1a440b",
   "metadata": {},
   "outputs": [],
   "source": [
    "user_statistics_data = list()\n",
    "\n",
    "for key in crm_data_dict:\n",
    "    if key in web_data_dict:\n",
    "        user_statistics_data.append(crm_data_dict[key] + web_data_dict[key])"
   ]
  },
  {
   "cell_type": "code",
   "execution_count": 7,
   "id": "22c2a00f",
   "metadata": {},
   "outputs": [],
   "source": [
    "user_statistics_db = sqlite3.connect(\"user_statistics.db\")\n",
    "user_statistics_db_cur = user_statistics_db.cursor()\n",
    "\n",
    "user_statistics_db_cur.execute('''CREATE TABLE user_statistics (\n",
    "   start_date TEXT,\n",
    "   past_3mo_sub_revenue INTEGER,\n",
    "   past_3mo_clicks INTEGER,\n",
    "   name TEXT NOT NULL   \n",
    "   )''')\n",
    "\n",
    "for row in user_statistics_data:\n",
    "    user_statistics_db_cur.execute(\"INSERT INTO user_statistics (start_date, past_3mo_sub_revenue, past_3mo_clicks, name) values (?, ?, ?, ?)\", row)\n",
    "\n",
    "user_statistics_db.commit()"
   ]
  },
  {
   "cell_type": "code",
   "execution_count": 9,
   "id": "628a38bd",
   "metadata": {},
   "outputs": [
    {
     "name": "stdout",
     "output_type": "stream",
     "text": [
      "('2000-12-01', '$3065', 98804, 'Abel Valdez')\n",
      "('1998-07-09', '$3347', 98887, 'Allan Kaufman')\n",
      "('2008-11-17', '$555', 105615, 'Brendan Copeland')\n",
      "('2016-04-26', '$3843', 98773, 'Carlo Caldwell')\n",
      "('2018-05-20', '$2329', 97492, 'Cecily Pham')\n",
      "('2012-11-07', '$75', 99883, 'Christian Knight')\n",
      "('2012-05-16', '$599', 97692, 'Dan Shannon')\n",
      "('2010-09-17', '$673', 90904, 'Darren Zimmerman')\n",
      "('2019-04-10', '$574', 99625, 'Elise Hodge')\n",
      "('2005-04-01', '$57', 99094, 'Francesca Dotson')\n",
      "('2009-08-14', '$2432', 97766, 'Guy Kemp')\n",
      "('1991-09-04', '$405', 90210, 'Hector Jacobs')\n",
      "('1990-07-16', '$2403', 94185, 'Ismail Harmon')\n",
      "('1996-06-12', '$3937', 94472, 'Jared Carrillo')\n",
      "('2012-04-20', '$3323', 102590, 'Leighton Austin')\n",
      "('1995-04-05', '$4954', 95240, 'Leo Alexander')\n",
      "('2019-04-10', '$574', 99886, 'Lorna Hodges')\n",
      "('1994-05-30', '$3815', 90885, 'Lucille OConnor')\n",
      "('1991-05-12', '$4768', 104235, 'Lukas Pineda')\n",
      "('2013-04-01', '$115', 100532, 'Marina Nguyen')\n",
      "('2002-05-14', '$4935', 101846, 'Minnie Combs')\n",
      "('1998-07-01', '$2629', 100288, 'Mollie Frank')\n",
      "('2014-11-07', '$2949', 109635, 'Myrtle Ali')\n",
      "('1998-03-01', '$4766', 105749, 'Oakley Sosa')\n",
      "('1994-11-04', '$2246', 84742, 'Ricardo Alvarez')\n",
      "('1994-03-14', '$1718', 98744, 'Safa Lamb')\n",
      "('2002-02-16', '$88', 92943, 'Stacey Myers')\n",
      "('1997-12-14', '$244', 89958, 'Theo Bonner')\n",
      "('2015-10-17', '$488', 98527, 'Trinity Pena')\n",
      "('2010-01-01', '$4651', 96482, 'Yasin Rowland')\n"
     ]
    }
   ],
   "source": [
    "user_statistics_db_cur.execute(\"SELECT * FROM user_statistics\")\n",
    "stat_rows = user_statistics_db_cur.fetchall()\n",
    "\n",
    "for row in stat_rows:\n",
    "    print(row)"
   ]
  },
  {
   "cell_type": "code",
   "execution_count": null,
   "id": "256a8251",
   "metadata": {},
   "outputs": [],
   "source": []
  }
 ],
 "metadata": {
  "kernelspec": {
   "display_name": "Python 3",
   "language": "python",
   "name": "python3"
  },
  "language_info": {
   "codemirror_mode": {
    "name": "ipython",
    "version": 3
   },
   "file_extension": ".py",
   "mimetype": "text/x-python",
   "name": "python",
   "nbconvert_exporter": "python",
   "pygments_lexer": "ipython3",
   "version": "3.8.8"
  }
 },
 "nbformat": 4,
 "nbformat_minor": 5
}
