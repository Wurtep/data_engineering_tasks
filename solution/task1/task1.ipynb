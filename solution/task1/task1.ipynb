{
 "cells": [
  {
   "cell_type": "code",
   "execution_count": 2,
   "id": "1aaad0c0",
   "metadata": {},
   "outputs": [],
   "source": [
    "# Columns represent years\n",
    "column_header = ['2019','2020',\t'2021',\t'2022',\t'2023',\t'2024',\t'2025']\n",
    "\n",
    "# Rows represent Spending Technology Categories\n",
    "row_header = ['Business Services', 'Hardware', 'IT Services', 'Software', 'Telecom Services']\n",
    "\n",
    "# Each row in the matrix below represent one Technology and each column one Year of data\n",
    "test_data = [\n",
    "    [477.471,\t 484.593,\t 518.988,\t 572.115,\t 640.693,\t 720.916,\t 814.72],\n",
    "    [2597.189,\t2701.082,\t3149.978,\t3320.256,\t3392.421,\t3438.651,\t3467.47],\n",
    "    [2600.082,\t2628.529,\t2896.001,\t3286.340,\t    None,\t4215.841,\t4787.348],\n",
    "    [1556.779,\t1654.627,\t1831.514,\t2025.143,\t2237.725,\t2481.181,\t2762.201],\n",
    "    [3188.570,\t3201.79,\t3242.249,\t    None,   3355.419,\t3402.868,\t3444.409]\n",
    "]\n",
    "\n",
    "# Propose a solution how to aproximate the mising points\n"
   ]
  },
  {
   "cell_type": "code",
   "execution_count": null,
   "id": "a27e48aa",
   "metadata": {},
   "outputs": [],
   "source": [
    "import pandas as pd\n",
    "import numpy as np\n",
    "\n",
    "# convert data into pandas DataFrame\n",
    "data = pd.DataFrame(test_data, columns=column_header, index=row_header)\n",
    "\n",
    "# replace None with np.nan for pandas compatibility\n",
    "data.replace(to_replace=[None], value=np.nan, inplace=True)\n",
    "\n",
    "# perform linear interpolation\n",
    "data_interpolated = data.interpolate(method='linear', axis=1)\n",
    "\n",
    "print(data_interpolated)\n"
   ]
  },
  {
   "cell_type": "code",
   "execution_count": null,
   "id": "9a69d97d",
   "metadata": {},
   "outputs": [],
   "source": []
  }
 ],
 "metadata": {
  "kernelspec": {
   "display_name": "Python 3",
   "language": "python",
   "name": "python3"
  },
  "language_info": {
   "codemirror_mode": {
    "name": "ipython",
    "version": 3
   },
   "file_extension": ".py",
   "mimetype": "text/x-python",
   "name": "python",
   "nbconvert_exporter": "python",
   "pygments_lexer": "ipython3",
   "version": "3.8.8"
  }
 },
 "nbformat": 4,
 "nbformat_minor": 5
}
